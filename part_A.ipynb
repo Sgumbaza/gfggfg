{
 "cells": [
  {
   "cell_type": "markdown",
   "metadata": {},
   "source": [
    "# Predicting Concrete Compressive Strength"
   ]
  },
  {
   "cell_type": "markdown",
   "metadata": {},
   "source": [
    "## Part - A   \n",
    "#### (Build a baseline model)"
   ]
  },
  {
   "cell_type": "markdown",
   "metadata": {},
   "source": [
    "#### Import necessary modules :"
   ]
  },
  {
   "cell_type": "code",
   "execution_count": 82,
   "metadata": {},
   "outputs": [],
   "source": [
    "from keras.models import Sequential\n",
    "from keras.layers import Dense\n",
    "import pandas as pd\n",
    "from sklearn.model_selection import train_test_split\n",
    "from sklearn.metrics import mean_squared_error\n",
    "import statistics "
   ]
  },
  {
   "cell_type": "markdown",
   "metadata": {},
   "source": [
    "#### Load data"
   ]
  },
  {
   "cell_type": "code",
   "execution_count": 83,
   "metadata": {},
   "outputs": [],
   "source": [
    "df = pd.read_csv(\"https://cocl.us/concrete_data\")"
   ]
  },
  {
   "cell_type": "markdown",
   "metadata": {},
   "source": [
    "#### Segregate the input/features columns and target column"
   ]
  },
  {
   "cell_type": "code",
   "execution_count": 84,
   "metadata": {},
   "outputs": [],
   "source": [
    "features = ['Cement', 'Blast Furnace Slag', 'Fly Ash', 'Water', 'Superplasticizer', 'Coarse Aggregate', 'Fine Aggregate', 'Age']\n",
    "target = ['Strength']\n",
    "n_features = len(features)"
   ]
  },
  {
   "cell_type": "markdown",
   "metadata": {},
   "source": [
    "#### Generic function to get Neural Network model"
   ]
  },
  {
   "cell_type": "code",
   "execution_count": 85,
   "metadata": {},
   "outputs": [],
   "source": [
    "def get_model():\n",
    "    model = Sequential()\n",
    "    \n",
    "    # Add 10 neuron in hidden layer. Input layer will be automatically created.\n",
    "    model.add(Dense(10, activation = 'relu', input_shape=(n_features,)))\n",
    "    \n",
    "    # Output layer has 1 neuron to give predicted value\n",
    "    model.add(Dense(1))\n",
    "    \n",
    "    # Compile model with 'adam' optimizer and 'mean_squared_error' as loss function\n",
    "    model.compile(optimizer = 'adam', loss = 'mean_squared_error')\n",
    "    return model"
   ]
  },
  {
   "cell_type": "markdown",
   "metadata": {},
   "source": [
    "#### Train model on training data for 50 epochs and predict 'Strength' values on test data \n",
    "(Do this for 50 iterations)"
   ]
  },
  {
   "cell_type": "code",
   "execution_count": 86,
   "metadata": {},
   "outputs": [],
   "source": [
    "# List to capture mean square error from each iteration\n",
    "mse_list = []\n",
    "\n",
    "# Run for 50 iterations\n",
    "for i in range(0, 50):\n",
    "    \n",
    "    # Split data into TRAIN(70%) and TEST (30%), randomly.\n",
    "    X_train, x_test, Y_train, y_test = train_test_split(df[features], df[target], test_size=0.3)\n",
    "    \n",
    "    # Get Neural Network model \n",
    "    model = get_model()\n",
    "    \n",
    "    # Train model on training data for 50 epochs\n",
    "    model.fit(X_train, Y_train, epochs=50, verbose=0)\n",
    "    \n",
    "    # Predict the 'Strength' values for test data\n",
    "    y_pred = model.predict(x_test)\n",
    "    \n",
    "    # Find mean square error of predicted values vs actual values of 'Strength' on test data\n",
    "    mse = mean_squared_error(y_test, y_pred)\n",
    "    \n",
    "    # Append the mse to the list\n",
    "    mse_list.append(mse)"
   ]
  },
  {
   "cell_type": "markdown",
   "metadata": {},
   "source": [
    "#### Calculate mean and standard deviation of mean squared error from each iteration"
   ]
  },
  {
   "cell_type": "code",
   "execution_count": 87,
   "metadata": {},
   "outputs": [
    {
     "name": "stdout",
     "output_type": "stream",
     "text": [
      "Mean: 371.816845\n",
      "Std Deviation: 520.695493\n"
     ]
    }
   ],
   "source": [
    "# Calculate mean of 50 mean squared errors\n",
    "print(\"Mean: %f\" %(statistics.mean(mse_list)))\n",
    "\n",
    "# Calculate Standard Deviation\n",
    "print(\"Std Deviation: %f\" %(statistics.pstdev(mse_list)))"
   ]
  },
  {
   "cell_type": "code",
   "execution_count": null,
   "metadata": {},
   "outputs": [],
   "source": []
  }
 ],
 "metadata": {
  "kernelspec": {
   "display_name": "Python 3",
   "language": "python",
   "name": "python3"
  },
  "language_info": {
   "codemirror_mode": {
    "name": "ipython",
    "version": 3
   },
   "file_extension": ".py",
   "mimetype": "text/x-python",
   "name": "python",
   "nbconvert_exporter": "python",
   "pygments_lexer": "ipython3",
   "version": "3.7.3"
  }
 },
 "nbformat": 4,
 "nbformat_minor": 2
}
